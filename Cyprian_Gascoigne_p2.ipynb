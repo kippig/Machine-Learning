{
 "cells": [
  {
   "cell_type": "markdown",
   "metadata": {},
   "source": [
    "# Project 2: Topic Classification"
   ]
  },
  {
   "cell_type": "markdown",
   "metadata": {},
   "source": [
    "In this project, you'll work with text data from newsgroup postings on a variety of topics. You'll train classifiers to distinguish between the topics based on the text of the posts. Whereas with digit classification, the input is relatively dense: a 28x28 matrix of pixels, many of which are non-zero, here we'll represent each document with a \"bag-of-words\" model. As you'll see, this makes the feature representation quite sparse -- only a few words of the total vocabulary are active in any given document. The bag-of-words assumption here is that the label depends only on the words; their order is not important.\n",
    "\n",
    "The SK-learn documentation on feature extraction will prove useful:\n",
    "http://scikit-learn.org/stable/modules/feature_extraction.html\n",
    "\n",
    "Each problem can be addressed succinctly with the included packages -- please don't add any more. Grading will be based on writing clean, commented code, along with a few short answers.\n",
    "\n",
    "As always, you're welcome to work on the project in groups and discuss ideas on the course wall, but please prepare your own write-up and write your own code."
   ]
  },
  {
   "cell_type": "code",
   "execution_count": 22,
   "metadata": {},
   "outputs": [],
   "source": [
    "# This tells matplotlib not to try opening a new window for each plot.\n",
    "%matplotlib inline\n",
    "\n",
    "# General libraries.\n",
    "import re\n",
    "import numpy as np\n",
    "import matplotlib.pyplot as plt\n",
    "\n",
    "# SK-learn libraries for learning.\n",
    "from sklearn.pipeline import Pipeline\n",
    "from sklearn.neighbors import KNeighborsClassifier\n",
    "from sklearn.linear_model import LogisticRegression\n",
    "from sklearn.naive_bayes import BernoulliNB\n",
    "from sklearn.naive_bayes import MultinomialNB\n",
    "from sklearn.grid_search import GridSearchCV\n",
    "\n",
    "# SK-learn libraries for evaluation.\n",
    "from sklearn.metrics import confusion_matrix\n",
    "from sklearn import metrics\n",
    "from sklearn.metrics import classification_report\n",
    "\n",
    "# SK-learn library for importing the newsgroup data.\n",
    "from sklearn.datasets import fetch_20newsgroups\n",
    "\n",
    "# SK-learn libraries for feature extraction from text.\n",
    "from sklearn.feature_extraction.text import *"
   ]
  },
  {
   "cell_type": "markdown",
   "metadata": {},
   "source": [
    "Load the data, stripping out metadata so that we learn classifiers that only use textual features. By default, newsgroups data is split into train and test sets. We further split the test so we have a dev set. Note that we specify 4 categories to use for this project. If you remove the categories argument from the fetch function, you'll get all 20 categories."
   ]
  },
  {
   "cell_type": "code",
   "execution_count": 24,
   "metadata": {},
   "outputs": [
    {
     "name": "stdout",
     "output_type": "stream",
     "text": [
      "training label shape: (2034,)\n",
      "test label shape: (677,)\n",
      "dev label shape: (676,)\n",
      "labels names: ['alt.atheism', 'comp.graphics', 'sci.space', 'talk.religion.misc']\n"
     ]
    }
   ],
   "source": [
    "categories = ['alt.atheism', 'talk.religion.misc', 'comp.graphics', 'sci.space']\n",
    "newsgroups_train = fetch_20newsgroups(subset='train',\n",
    "                                      remove=('headers', 'footers', 'quotes'),\n",
    "                                      categories=categories)\n",
    "newsgroups_test = fetch_20newsgroups(subset='test',\n",
    "                                     remove=('headers', 'footers', 'quotes'),\n",
    "                                     categories=categories)\n",
    "\n",
    "num_test = len(newsgroups_test.target)\n",
    "test_data, test_labels = newsgroups_test.data[num_test//2:], newsgroups_test.target[num_test//2:]\n",
    "dev_data, dev_labels = newsgroups_test.data[:num_test//2], newsgroups_test.target[:num_test//2]\n",
    "train_data, train_labels = newsgroups_train.data, newsgroups_train.target\n",
    "\n",
    "print('training label shape:', train_labels.shape)\n",
    "print( 'test label shape:', test_labels.shape)\n",
    "print( 'dev label shape:', dev_labels.shape)\n",
    "print( 'labels names:', newsgroups_train.target_names)"
   ]
  },
  {
   "cell_type": "markdown",
   "metadata": {},
   "source": [
    "(1) For each of the first 5 training examples, print the text of the message along with the label."
   ]
  },
  {
   "cell_type": "code",
   "execution_count": 25,
   "metadata": {},
   "outputs": [
    {
     "name": "stdout",
     "output_type": "stream",
     "text": [
      "comp.graphics \n",
      " Hi,\n",
      "\n",
      "I've noticed that if you only save a model (with all your mapping planes\n",
      "positioned carefully) to a .3DS file that when you reload it after restarting\n",
      "3DS, they are given a default position and orientation.  But if you save\n",
      "to a .PRJ file their positions/orientation are preserved.  Does anyone\n",
      "know why this information is not stored in the .3DS file?  Nothing is\n",
      "explicitly said in the manual about saving texture rules in the .PRJ file. \n",
      "I'd like to be able to read the texture rule information, does anyone have \n",
      "the format for the .PRJ file?\n",
      "\n",
      "Is the .CEL file format available from somewhere?\n",
      "\n",
      "Rych \n",
      "\n",
      "talk.religion.misc \n",
      " \n",
      "\n",
      "Seems to be, barring evidence to the contrary, that Koresh was simply\n",
      "another deranged fanatic who thought it neccessary to take a whole bunch of\n",
      "folks with him, children and all, to satisfy his delusional mania. Jim\n",
      "Jones, circa 1993.\n",
      "\n",
      "\n",
      "Nope - fruitcakes like Koresh have been demonstrating such evil corruption\n",
      "for centuries. \n",
      "\n",
      "sci.space \n",
      " \n",
      " >In article <1993Apr19.020359.26996@sq.sq.com>, msb@sq.sq.com (Mark Brader) \n",
      "\n",
      "MB>                                                             So the\n",
      "MB> 1970 figure seems unlikely to actually be anything but a perijove.\n",
      "\n",
      "JG>Sorry, _perijoves_...I'm not used to talking this language.\n",
      "\n",
      "Couldn't we just say periapsis or apoapsis?\n",
      "\n",
      "  \n",
      "\n",
      "alt.atheism \n",
      " I have a request for those who would like to see Charley Wingate\n",
      "respond to the \"Charley Challenges\" (and judging from my e-mail, there\n",
      "appear to be quite a few of you.)  \n",
      "\n",
      "It is clear that Mr. Wingate intends to continue to post tangential or\n",
      "unrelated articles while ingoring the Challenges themselves.  Between\n",
      "the last two re-postings of the Challenges, I noted perhaps a dozen or\n",
      "more posts by Mr. Wingate, none of which answered a single Challenge.  \n",
      "\n",
      "It seems unmistakable to me that Mr. Wingate hopes that the questions\n",
      "will just go away, and he is doing his level best to change the\n",
      "subject.  Given that this seems a rather common net.theist tactic, I\n",
      "would like to suggest that we impress upon him our desire for answers,\n",
      "in the following manner:\n",
      "\n",
      "1. Ignore any future articles by Mr. Wingate that do not address the\n",
      "Challenges, until he answers them or explictly announces that he\n",
      "refuses to do so.\n",
      "\n",
      "--or--\n",
      "\n",
      "2. If you must respond to one of his articles, include within it\n",
      "something similar to the following:\n",
      "\n",
      "    \"Please answer the questions posed to you in the Charley Challenges.\"\n",
      "\n",
      "Really, I'm not looking to humiliate anyone here, I just want some\n",
      "honest answers.  You wouldn't think that honesty would be too much to\n",
      "ask from a devout Christian, would you?  \n",
      "\n",
      "Nevermind, that was a rhetorical question. \n",
      "\n",
      "sci.space \n",
      " AW&ST  had a brief blurb on a Manned Lunar Exploration confernce\n",
      "May 7th  at Crystal City Virginia, under the auspices of AIAA.\n",
      "\n",
      "Does anyone know more about this?  How much, to attend????\n",
      "\n",
      "Anyone want to go? \n",
      "\n"
     ]
    }
   ],
   "source": [
    "def P1(num_examples=5):\n",
    "\n",
    "### STUDENT START ###\n",
    "    for i in range(num_examples):\n",
    "        print(newsgroups_train.target_names[train_labels[i]], \"\\n\", train_data[i], \"\\n\")\n",
    "    \n",
    "### STUDENT END ###\n",
    "\n",
    "P1()"
   ]
  },
  {
   "cell_type": "markdown",
   "metadata": {},
   "source": [
    "(2) Use CountVectorizer to turn the raw training text into feature vectors. You should use the fit_transform function, which makes 2 passes through the data: first it computes the vocabulary (\"fit\"), second it converts the raw text into feature vectors using the vocabulary (\"transform\").\n",
    "\n",
    "The vectorizer has a lot of options. To get familiar with some of them, write code to answer these questions:\n",
    "\n",
    "a. The output of the transform (also of fit_transform) is a sparse matrix: http://docs.scipy.org/doc/scipy-0.14.0/reference/generated/scipy.sparse.csr_matrix.html. What is the size of the vocabulary? What is the average number of non-zero features per example? What fraction of the entries in the matrix are non-zero? Hint: use \"nnz\" and \"shape\" attributes.\n",
    "\n",
    "b. What are the 0th and last feature strings (in alphabetical order)? Hint: use the vectorizer's get_feature_names function.\n",
    "\n",
    "c. Specify your own vocabulary with 4 words: [\"atheism\", \"graphics\", \"space\", \"religion\"]. Confirm the training vectors are appropriately shaped. Now what's the average number of non-zero features per example?\n",
    "\n",
    "d. Instead of extracting unigram word features, use \"analyzer\" and \"ngram_range\" to extract bigram and trigram character features. What size vocabulary does this yield?\n",
    "\n",
    "e. Use the \"min_df\" argument to prune words that appear in fewer than 10 documents. What size vocabulary does this yield?\n",
    "\n",
    "f. Using the standard CountVectorizer, what fraction of the words in the dev data are missing from the vocabulary? Hint: build a vocabulary for both train and dev and look at the size of the difference."
   ]
  },
  {
   "cell_type": "code",
   "execution_count": 4,
   "metadata": {},
   "outputs": [
    {
     "name": "stdout",
     "output_type": "stream",
     "text": [
      "2a) \n",
      "\n",
      "Size of the vocabulary:  26879\n",
      "Mean number of non-zero features per example:  96.70599803343165\n",
      "Percent of entries that are non-zero:  0.3597827226959026 %\n",
      "\n",
      "\n",
      "2b) \n",
      "\n",
      "First feature in alphabetical order:  00\n",
      "Last feature in alphabetical order:  zyxel\n",
      "\n",
      "\n",
      "2c) \n",
      "\n",
      "Shape of sparse matrix: (2034, 4)\n",
      "Mean number of non-zero features per example:  0.26843657817109146\n",
      "\n",
      "\n",
      "2d) \n",
      "\n",
      "Size of the vocabulary with bigrams and trigrams:  28954 \n",
      "\n",
      "2e) \n",
      "\n",
      "Size of the vocabulary with trimmed bigrams and trigrams:  3064 \n",
      "\n",
      "2f) \n",
      "\n",
      "% of words in the dev set not in the training set: 24.787640034470023 %\n"
     ]
    }
   ],
   "source": [
    "def P2():\n",
    "\n",
    "### STUDENT START ###\n",
    "    CV = CountVectorizer()\n",
    "    TermDocumentMatrix = CV.fit_transform(train_data)\n",
    "    \n",
    "    #2a)\n",
    "    print(\"2a) \\n\")\n",
    "    print(\"Size of the vocabulary: \", len(CV.vocabulary_))\n",
    "    print(\"Mean number of non-zero features per example: \", TermDocumentMatrix.nnz/TermDocumentMatrix.shape[0])\n",
    "    print(\"Percent of entries that are non-zero: \",  100* TermDocumentMatrix.nnz/(TermDocumentMatrix.shape[0]*TermDocumentMatrix.shape[1]), \"%\")\n",
    "    print(\"\\n\")\n",
    "    \n",
    "    #2b)\n",
    "    FeatureNames = CV.get_feature_names()\n",
    "    print(\"2b) \\n\")\n",
    "    print(\"First feature in alphabetical order: \", FeatureNames[0])\n",
    "    print(\"Last feature in alphabetical order: \", FeatureNames[-1])\n",
    "    print(\"\\n\")\n",
    "    \n",
    "    #2c)\n",
    "    print(\"2c) \\n\")\n",
    "    vocab = [\"atheism\", \"religion\", \"graphics\", \"space\"]\n",
    "    \n",
    "    CV2 = CountVectorizer(vocabulary = vocab)\n",
    "    TermDocumentMatrix2 = CV2.fit_transform(train_data)\n",
    "    \n",
    "    print(\"Shape of sparse matrix:\", TermDocumentMatrix2.shape)\n",
    "    print(\"Mean number of non-zero features per example: \", TermDocumentMatrix2.nnz/TermDocumentMatrix2.shape[0])\n",
    "    print(\"\\n\")\n",
    "    \n",
    "    #2d)\n",
    "    print(\"2d) \\n\")\n",
    "    CV = CountVectorizer(analyzer = 'char_wb', ngram_range =(2,3))\n",
    "    TermDocumentMatrix = CV.fit_transform(train_data)\n",
    "    print(\"Size of the vocabulary with bigrams and trigrams: \", len(CV.vocabulary_), \"\\n\")\n",
    "    \n",
    "    #2e)\n",
    "    print(\"2e) \\n\")\n",
    "    CV = CountVectorizer(min_df = 10)\n",
    "    TermDocumentMatrix = CV.fit_transform(train_data)\n",
    "    print(\"Size of the vocabulary with trimmed bigrams and trigrams: \", len(CV.vocabulary_), \"\\n\")\n",
    "    \n",
    "    #2f)\n",
    "    print(\"2f) \\n\")\n",
    "    CV = CountVectorizer()\n",
    "    TermDocumentMatrix = CV.fit_transform(dev_data)\n",
    "    CV2 = CountVectorizer()\n",
    "    TermDocumentMatrix2 = CV2.fit_transform(train_data)\n",
    "    \n",
    "    vocabulary_d = 100*len(set(CV.vocabulary_.keys()) - set(CV2.vocabulary_.keys()))/len(CV.vocabulary_)\n",
    "    print(\"% of words in the dev set not in the training set:\", vocabulary_d, \"%\")\n",
    "    \n",
    "    \n",
    "    \n",
    "### STUDENT END ###\n",
    "\n",
    "P2()"
   ]
  },
  {
   "cell_type": "markdown",
   "metadata": {},
   "source": [
    "(3) Use the default CountVectorizer options and report the f1 score (use metrics.f1_score) for a k nearest neighbors classifier; find the optimal value for k. Also fit a Multinomial Naive Bayes model and find the optimal value for alpha. Finally, fit a logistic regression model and find the optimal value for the regularization strength C using l2 regularization. A few questions:\n",
    "\n",
    "a. Why doesn't nearest neighbors work well for this problem?\n",
    "\n",
    "b. Any ideas why logistic regression doesn't work as well as Naive Bayes?\n",
    "\n",
    "c. Logistic regression estimates a weight vector for each class, which you can access with the coef\\_ attribute. Output the sum of the squared weight values for each class for each setting of the C parameter. Briefly explain the relationship between the sum and the value of C."
   ]
  },
  {
   "cell_type": "code",
   "execution_count": 21,
   "metadata": {},
   "outputs": [
    {
     "name": "stdout",
     "output_type": "stream",
     "text": [
      "K-Nearest Neighbors:\n",
      "{'n_neighbors': 9}\n",
      "f1 score: 0.404726735598 \n",
      "\n"
     ]
    },
    {
     "name": "stderr",
     "output_type": "stream",
     "text": [
      "C:\\Users\\Kippy\\Anaconda3\\lib\\site-packages\\sklearn\\naive_bayes.py:699: RuntimeWarning: divide by zero encountered in log\n",
      "  self.feature_log_prob_ = (np.log(smoothed_fc) -\n",
      "C:\\Users\\Kippy\\Anaconda3\\lib\\site-packages\\sklearn\\naive_bayes.py:699: RuntimeWarning: divide by zero encountered in log\n",
      "  self.feature_log_prob_ = (np.log(smoothed_fc) -\n",
      "C:\\Users\\Kippy\\Anaconda3\\lib\\site-packages\\sklearn\\naive_bayes.py:699: RuntimeWarning: divide by zero encountered in log\n",
      "  self.feature_log_prob_ = (np.log(smoothed_fc) -\n"
     ]
    },
    {
     "name": "stdout",
     "output_type": "stream",
     "text": [
      "Naive Bayes:\n",
      "{'alpha': 0.01}\n",
      "f1 score: 0.781388478582 \n",
      "\n",
      "Logistic Regression: \n",
      "{'C': 0.5}\n",
      "f1 score: 0.753323485968\n",
      "C = 0.0001 , Class: 0 , Sum of Squares: 0.00770174944675\n",
      "C = 0.0001 , Class: 1 , Sum of Squares: 0.0119412003106\n",
      "C = 0.0001 , Class: 2 , Sum of Squares: 0.00943507686564\n",
      "C = 0.0001 , Class: 3 , Sum of Squares: 0.00910283529383\n",
      "C = 0.001 , Class: 0 , Sum of Squares: 0.165093451668\n",
      "C = 0.001 , Class: 1 , Sum of Squares: 0.200952746906\n",
      "C = 0.001 , Class: 2 , Sum of Squares: 0.180670937544\n",
      "C = 0.001 , Class: 3 , Sum of Squares: 0.187242784378\n",
      "C = 0.01 , Class: 0 , Sum of Squares: 2.54150029997\n",
      "C = 0.01 , Class: 1 , Sum of Squares: 2.93970936836\n",
      "C = 0.01 , Class: 2 , Sum of Squares: 2.86246881986\n",
      "C = 0.01 , Class: 3 , Sum of Squares: 2.2500287496\n",
      "C = 0.1 , Class: 0 , Sum of Squares: 27.1324019324\n",
      "C = 0.1 , Class: 1 , Sum of Squares: 24.6590494531\n",
      "C = 0.1 , Class: 2 , Sum of Squares: 27.4585773635\n",
      "C = 0.1 , Class: 3 , Sum of Squares: 23.0245392328\n",
      "C = 0.5 , Class: 0 , Sum of Squares: 102.611996128\n",
      "C = 0.5 , Class: 1 , Sum of Squares: 83.1196442399\n",
      "C = 0.5 , Class: 2 , Sum of Squares: 99.0236696138\n",
      "C = 0.5 , Class: 3 , Sum of Squares: 88.9789320117\n",
      "C = 1.0 , Class: 0 , Sum of Squares: 167.001595852\n",
      "C = 1.0 , Class: 1 , Sum of Squares: 130.923563709\n",
      "C = 1.0 , Class: 2 , Sum of Squares: 157.933791449\n",
      "C = 1.0 , Class: 3 , Sum of Squares: 145.790837899\n",
      "C = 2.0 , Class: 0 , Sum of Squares: 257.465430503\n",
      "C = 2.0 , Class: 1 , Sum of Squares: 197.93109601\n",
      "C = 2.0 , Class: 2 , Sum of Squares: 239.859457958\n",
      "C = 2.0 , Class: 3 , Sum of Squares: 226.565660643\n",
      "C = 10.0 , Class: 0 , Sum of Squares: 586.519360656\n",
      "C = 10.0 , Class: 1 , Sum of Squares: 448.035429705\n",
      "C = 10.0 , Class: 2 , Sum of Squares: 538.507244668\n",
      "C = 10.0 , Class: 3 , Sum of Squares: 530.941486497\n",
      "C = 100 , Class: 0 , Sum of Squares: 1405.04205018\n",
      "C = 100 , Class: 1 , Sum of Squares: 1081.89104725\n",
      "C = 100 , Class: 2 , Sum of Squares: 1290.34707311\n",
      "C = 100 , Class: 3 , Sum of Squares: 1315.31258911\n"
     ]
    }
   ],
   "source": [
    "def P3():\n",
    "\n",
    "### STUDENT START ###\n",
    "    CV = CountVectorizer()\n",
    "    DTM_train = CV.fit_transform(train_data)\n",
    "    DTM_test = CV.transform(test_data)\n",
    "    \n",
    "    ks = {'n_neighbors': [x for x in range(1,10)]}\n",
    "    def KNNSearch(ks):\n",
    "    \n",
    "        #Input our data into the model and report score and classifier report\n",
    "        grid_search = GridSearchCV(KNeighborsClassifier(), param_grid = ks, scoring = 'f1_micro')\n",
    "        grid_search.fit(DTM_train, train_labels)\n",
    "        return grid_search\n",
    "    \n",
    "    knn = KNNSearch(ks)\n",
    "    print(\"K-Nearest Neighbors:\")\n",
    "    print(knn.best_params_)\n",
    "    print(\"f1 score:\", metrics.f1_score(knn.predict(DTM_test), test_labels, average = 'micro'), '\\n')\n",
    "    \n",
    "    def NBSearch(alphas):\n",
    "    \n",
    "        #Input our data into the model and report score and classifier report\n",
    "        grid_search = GridSearchCV(MultinomialNB(), param_grid = alphas, scoring = 'f1_micro')\n",
    "        grid_search.fit(DTM_train, train_labels)\n",
    "        return grid_search\n",
    "\n",
    "    alphas = {'alpha': [0.00, 0.0001, 0.001, 0.01, 0.1, 0.5, 1.0, 2.0, 10.0]}\n",
    "    nb = NBSearch(alphas)\n",
    "    print(\"Naive Bayes:\")\n",
    "    print(nb.best_params_)\n",
    "    print(\"f1 score:\", metrics.f1_score(nb.predict(DTM_test), test_labels, average = 'micro'), '\\n')\n",
    "    \n",
    "    def LRSearch(Cs):\n",
    "        grid_search = GridSearchCV(LogisticRegression(penalty='l2', multi_class='ovr'), param_grid = Cs, scoring = 'f1_micro')\n",
    "        grid_search.fit(DTM_train, train_labels)\n",
    "        return grid_search\n",
    "    \n",
    "    Cs = {'C': [0.0001, 0.001, 0.01, 0.1, 0.5, 1.0, 2.0, 10.0, 100]}\n",
    "    lr = LRSearch(Cs)\n",
    "    print(\"Logistic Regression: \")\n",
    "    print(lr.best_params_)\n",
    "    print(\"f1 score:\", metrics.f1_score(lr.predict(DTM_test), test_labels, average = 'micro'))\n",
    "    \n",
    "    scores = np.zeros((4, len(Cs['C'])))\n",
    "    for c in range(len(Cs['C'])):\n",
    "        lr = LogisticRegression(penalty='l2', multi_class='ovr', C = Cs['C'][c])\n",
    "        lr.fit(DTM_train, train_labels)\n",
    "        for i in range(4):\n",
    "            scores[i][c] = sum(np.square(lr.coef_[i]))\n",
    "            print(\"C =\", Cs['C'][c], \", Class:\", i, \", Sum of Squares:\", scores[i][c])\n",
    "      \n",
    "\n",
    "### STUDENT END ###\n",
    "\n",
    "P3()"
   ]
  },
  {
   "cell_type": "markdown",
   "metadata": {},
   "source": [
    "ANSWER:\n",
    "a) Nearest neighbors works horribly for this set of data because the emails all have very different features. So in general a spacial representation of the emails will generally look like noise. Obviously it's not quite true since the accuracy is higher than 25%. But in general, many emails in a category will look very different from one another, with maybe a few key words in common (as we will see in the table of features later).\n",
    "b) Logistic Regression can have issues with large amounts of features. With our thousands of features here, it is likely overfitting the data. Naive Bayes works well with small amounts of data since it is modeled using a joint probability distribution.\n",
    "c) As C increases, the sum of square increases also. This is because with strong regularization most of the features coefficients are going to be close to zero. Thus when C increases and regularization strength decreases all the weights increase (in absolute value).\n"
   ]
  },
  {
   "cell_type": "markdown",
   "metadata": {},
   "source": [
    "(4) Train a logistic regression model. Find the 5 features with the largest weights for each label -- 20 features in total. Create a table with 20 rows and 4 columns that shows the weight for each of these features for each of the labels. Create the table again with bigram features. Any surprising features in this table?"
   ]
  },
  {
   "cell_type": "code",
   "execution_count": 28,
   "metadata": {},
   "outputs": [
    {
     "data": {
      "image/png": "[encoded data removed]",
      "text/plain": [
       "<matplotlib.figure.Figure at 0x2a5229b3898>"
      ]
     },
     "metadata": {},
     "output_type": "display_data"
    },
    {
     "data": {
      "image/png": "[encoded data removed]",
      "text/plain": [
       "<matplotlib.figure.Figure at 0x2a5235d96a0>"
      ]
     },
     "metadata": {},
     "output_type": "display_data"
    }
   ],
   "source": [
    "def P4():\n",
    "\n",
    "### STUDENT START ###\n",
    "    for i in (0,1):\n",
    "        if i == 0:\n",
    "            r = (1,1)\n",
    "        else:\n",
    "            r = (2,2)\n",
    "        CV = CountVectorizer(analyzer = 'word', ngram_range = r )\n",
    "        DTM_train = CV.fit_transform(train_data)\n",
    "        lr = LogisticRegression(penalty='l2', multi_class='ovr', C = 0.5, max_iter = 150)\n",
    "        lr.fit(DTM_train, train_labels)\n",
    "\n",
    "        #Finds the top features (as a tuple)\n",
    "        topfeatures = [0]*4\n",
    "        for i in range(4):\n",
    "            topfeatures[i] = sorted(enumerate(lr.coef_[i]), key=lambda tup: tup[1], reverse = True)[0:5]\n",
    "\n",
    "        #Extracts the indices of the top features\n",
    "        feature_index = []\n",
    "        for lst in topfeatures:\n",
    "            for j in lst:\n",
    "                feature_index.append(j[0])\n",
    "        feature_index.sort()\n",
    "\n",
    "        #Sets up the data for the table\n",
    "        feature_names = []\n",
    "        table_text = []\n",
    "        for i in feature_index:\n",
    "            feature_names.append(CV.get_feature_names()[i])\n",
    "            table_text.append([lr.coef_[j][i] for j in range(4)])\n",
    "\n",
    "        #Table\n",
    "        fig, ax = plt.subplots()\n",
    "        plt.title(i)\n",
    "        ax.axis('tight')\n",
    "        ax.axis('off')\n",
    "        ax.table(cellText=table_text, rowLabels=feature_names, colLabels=newsgroups_train.target_names, loc='center')\n",
    "### STUDENT END ###\n",
    "\n",
    "P4()"
   ]
  },
  {
   "cell_type": "markdown",
   "metadata": {},
   "source": [
    "ANSWER:\n",
    "For atheism: Bobby, deletion. Perhaps Bobby is to do with Bobby Henderson who came up with the idea of the flying spaghetti monster. I'm not sure about deletion, I'd expect that to be in graphics.\n",
    "\n",
    "Graphics: These seem reasonable.\n",
    "\n",
    "Space: These seems reasonable.\n",
    "\n",
    "Religion: Blood, FBI, order. Blood makes sense because Christian and Christians are high and it's very relevant to the associated theology. Order perhaps references Franciscan or other orders within Christianity. It's still suprising to me that  it shows up over something like pastor or something else. As for FBI? Who knows...\n",
    "\n",
    "For Bigrams, the models cheats a bit and appends \"the\" to many keywords. Cheers Kent shows up, which is confusing. In general, the bigrams are much noisier and have weaker weights. Interestingly, it picks up a lot of extremely common phrases such as \"you are\", \"it was\", \"out there\"."
   ]
  },
  {
   "cell_type": "markdown",
   "metadata": {},
   "source": [
    "(5) Try to improve the logistic regression classifier by passing a custom preprocessor to CountVectorizer. The preprocessing function runs on the raw text, before it is split into words by the tokenizer. Your preprocessor should try to normalize the input in various ways to improve generalization. For example, try lowercasing everything, replacing sequences of numbers with a single token, removing various other non-letter characters, and shortening long words. If you're not already familiar with regular expressions for manipulating strings, see https://docs.python.org/2/library/re.html, and re.sub() in particular. With your new preprocessor, how much did you reduce the size of the dictionary?\n",
    "\n",
    "For reference, I was able to improve dev F1 by 2 points."
   ]
  },
  {
   "cell_type": "code",
   "execution_count": 29,
   "metadata": {},
   "outputs": [
    {
     "name": "stdout",
     "output_type": "stream",
     "text": [
      "Size of the pre-processed vocabulary:  25299\n",
      "f1 score: 0.751846381093\n",
      "Size of the unprocessed vocabulary:  33291\n",
      "f1 score: 0.713441654357\n"
     ]
    }
   ],
   "source": [
    "def empty_preprocessor(s):\n",
    "    return s\n",
    "\n",
    "def better_preprocessor(s):\n",
    "\n",
    "### STUDENT START ###\n",
    "    s = s.lower()\n",
    "    s = re.sub(r'[^a-zA-Z0-9\\s]','', s)\n",
    "    s = re.sub(r'\\s{2,}', ' ', s)\n",
    "    s = re.sub(r'(\\w{9})\\w*\\s', r'\\1 ' , s)\n",
    "    s = re.sub(r'\\d+', 'NUM', s)\n",
    "    \n",
    "    return s\n",
    "### STUDENT END ###\n",
    "\n",
    "\n",
    "def P5():\n",
    "\n",
    "### STUDENT START ###\n",
    "        \n",
    "    CV = CountVectorizer(preprocessor = better_preprocessor)\n",
    "    DTM_train = CV.fit_transform(train_data)\n",
    "    DTM_test = CV.transform(test_data)\n",
    "    lr = LogisticRegression(penalty='l2', multi_class='ovr', C = 0.5, max_iter = 150)\n",
    "    lr.fit(DTM_train, train_labels)\n",
    "    print(\"Size of the pre-processed vocabulary: \", len(CV.vocabulary_))\n",
    "    print(\"f1 score:\", metrics.f1_score(lr.predict(DTM_test), test_labels, average = 'micro'))\n",
    "    \n",
    "    \n",
    "    CV2 = CountVectorizer(preprocessor = empty_preprocessor)\n",
    "    DTM_train = CV2.fit_transform(train_data)\n",
    "    DTM_test = CV2.transform(test_data)\n",
    "    lr = LogisticRegression(penalty='l2', multi_class='ovr', C = 0.5, max_iter = 150)\n",
    "    lr.fit(DTM_train, train_labels)\n",
    "    print(\"Size of the unprocessed vocabulary: \", len(CV2.vocabulary_))\n",
    "    print(\"f1 score:\", metrics.f1_score(lr.predict(DTM_test), test_labels, average = 'micro'))\n",
    "### STUDENT END ###\n",
    "\n",
    "P5()"
   ]
  },
  {
   "cell_type": "markdown",
   "metadata": {},
   "source": [
    "(6) The idea of regularization is to avoid learning very large weights (which are likely to fit the training data, but not generalize well) by adding a penalty to the total size of the learned weights. That is, logistic regression seeks the set of weights that minimizes errors in the training data AND has a small size. The default regularization, L2, computes this size as the sum of the squared weights (see P3, above). L1 regularization computes this size as the sum of the absolute values of the weights. The result is that whereas L2 regularization makes all the weights relatively small, L1 regularization drives lots of the weights to 0, effectively removing unimportant features.\n",
    "\n",
    "Train a logistic regression model using a \"l1\" penalty. Output the number of learned weights that are not equal to zero. How does this compare to the number of non-zero weights you get with \"l2\"? Now, reduce the size of the vocabulary by keeping only those features that have at least one non-zero weight and retrain a model using \"l2\".\n",
    "\n",
    "Make a plot showing accuracy of the re-trained model vs. the vocabulary size you get when pruning unused features by adjusting the C parameter.\n",
    "\n",
    "Note: The gradient descent code that trains the logistic regression model sometimes has trouble converging with extreme settings of the C parameter. Relax the convergence criteria by setting tol=.01 (the default is .0001)."
   ]
  },
  {
   "cell_type": "code",
   "execution_count": 41,
   "metadata": {},
   "outputs": [
    {
     "name": "stdout",
     "output_type": "stream",
     "text": [
      "Number of non-zero weights with L1 penalty: 1735\n",
      "Number of non-zero weights with L2 penalty: 44623\n"
     ]
    },
    {
     "data": {
      "image/png": "[encoded data removed]",
      "text/plain": [
       "<matplotlib.figure.Figure at 0x2a522ef35c0>"
      ]
     },
     "metadata": {},
     "output_type": "display_data"
    }
   ],
   "source": [
    "def P6():\n",
    "\n",
    "    # Keep this random seed here to make comparison easier.\n",
    "    np.random.seed(0)\n",
    "    \n",
    "    ### STUDENT START ###\n",
    "    Cs = [0.0001, 0.001, 0.01, 0.1, 0.5, 1.0, 2.0, 10.0, 100]\n",
    "    scores = [0]*len(Cs)\n",
    "    vocab_size = [0]*len(Cs)\n",
    "    \n",
    "    CV = CountVectorizer()\n",
    "    DTM_train = CV.fit_transform(train_data)\n",
    "    DTM_test = CV.transform(test_data)\n",
    "    \n",
    "    for i in range(len(Cs)):\n",
    "    \n",
    "        lr1 = LogisticRegression(penalty = 'l1', C = Cs[i], tol = .01)\n",
    "        lr1.fit(DTM_train, train_labels)\n",
    "        \n",
    "        if Cs[i] == 1:\n",
    "            print('Number of non-zero weights with L1 penalty:', np.count_nonzero(np.round(lr1.coef_, 2)))\n",
    "            lr2 = LogisticRegression(penalty = 'l2')\n",
    "            lr2.fit(DTM_train, train_labels)\n",
    "            #there are tons of rounding errors here so we need to round to the nearest .01 (our tolerance) to make any of the weights non-zero\n",
    "            print('Number of non-zero weights with L2 penalty:', np.count_nonzero(np.round(lr2.coef_, 2)))\n",
    "\n",
    "        \n",
    "        #get nonzero features\n",
    "        features = set()\n",
    "        for category in range(4):\n",
    "            for feature in range(len(lr1.coef_[0])):\n",
    "                if round(lr1.coef_[category][feature],2) != 0:\n",
    "                    features.add(feature)\n",
    "\n",
    "        #convert the feature indices into a vocabulary\n",
    "        vocab = []\n",
    "        #Interestingly, there's a huge performance increase if you pull the feature names outside the list.\n",
    "        feature_names = CV.get_feature_names()\n",
    "        for j in features:\n",
    "            vocab.append(feature_names[j])\n",
    "            \n",
    "        vocab_size[i] = len(vocab)\n",
    "\n",
    "        CV2 = CountVectorizer(vocabulary = vocab)\n",
    "        lr3 = LogisticRegression(penalty = 'l2', C = Cs[i], tol = 0.1)\n",
    "        lr3.fit(DTM_train, train_labels)\n",
    "        scores[i] = lr3.score(DTM_test, test_labels)\n",
    "        \n",
    "    \n",
    "    fig, ax = plt.subplots()\n",
    "    ax.scatter(vocab_size, scores)\n",
    "\n",
    "    for i, txt in enumerate(Cs):\n",
    "        ax.annotate(txt, (vocab_size[i],scores[i]))\n",
    "        \n",
    "    ### STUDENT END ###\n",
    "    \n",
    "P6()"
   ]
  },
  {
   "cell_type": "markdown",
   "metadata": {},
   "source": [
    "(7) Use the TfidfVectorizer -- how is this different from the CountVectorizer? Train a logistic regression model with C=100.\n",
    "\n",
    "Make predictions on the dev data and show the top 3 documents where the ratio R is largest, where R is:\n",
    "\n",
    "maximum predicted probability / predicted probability of the correct label\n",
    "\n",
    "What kinds of mistakes is the model making? Suggest a way to address one particular issue that you see."
   ]
  },
  {
   "cell_type": "code",
   "execution_count": 49,
   "metadata": {},
   "outputs": [
    {
     "name": "stdout",
     "output_type": "stream",
     "text": [
      "1 : Score: 929.358094789 [ 0.00196563  0.99371994  0.00324517  0.00106925]\n",
      "Actual Label: talk.religion.misc\n",
      "Predicted Label: comp.graphics\n",
      "I am pleased to announce that a *revised version* of _The Easy-to-Read Book\n",
      "of Mormon_ (former title: _Mormon's Book_) by Lynn Matthews Anderson is now\n",
      "available through anonymous ftp (see information below). In addition to the\n",
      "change in title, the revised ETR BOM has been shortened by several pages\n",
      "(eliminating many extraneous \"that's\" and \"of's\"), and many (minor) errors\n",
      "have been corrected. This release includes a simplified Joseph Smith Story,\n",
      "testimonies of the three and eight witnesses, an \n",
      "\n",
      "2 : Score: 325.004160792 [ 0.00291047  0.97974632  0.01432865  0.00301457]\n",
      "Actual Label: talk.religion.misc\n",
      "Predicted Label: comp.graphics\n",
      "Can anyone provide me a ftp site where I can obtain a online version\n",
      "of the Book of Mormon. Please email the internet address if possible. \n",
      "\n",
      "3 : Score: 287.179191162 [ 0.0024217   0.0200709   0.28204504  0.69546236]\n",
      "Actual Label: alt.atheism\n",
      "Predicted Label: talk.religion.misc\n",
      "\n",
      "The 24 children were, of course, killed by a lone gunman in a second story\n",
      "window, who fired eight bullets in the space of two seconds...\n",
      " \n",
      "\n"
     ]
    }
   ],
   "source": [
    "def P7():\n",
    "\n",
    "### STUDENT START ###\n",
    "    TV = TfidfVectorizer()\n",
    "    DTM_train = TV.fit_transform(train_data)\n",
    "    DTM_dev = TV.transform(dev_data)\n",
    "    \n",
    "    lr = LogisticRegression(C=100)\n",
    "    lr.fit(DTM_train, train_labels)\n",
    "    \n",
    "    prob = lr.predict_proba(DTM_dev)\n",
    "    R = [0]*len(dev_data)\n",
    "    for i in range(len(dev_data)):\n",
    "        R[i] = max(prob[i])/prob[i][dev_labels[i]]\n",
    "        \n",
    "    R = sorted(enumerate(R), key=lambda tup: tup[1], reverse = True)[0:3]\n",
    "    \n",
    "    for i in range(3):\n",
    "        print(i + 1, \":\", \"Score:\", R[i][1], prob[R[i][0]])\n",
    "        print(\"Actual Label:\", newsgroups_train.target_names[dev_labels[R[i][0]]])\n",
    "        print(\"Predicted Label:\", newsgroups_train.target_names[lr.predict(DTM_dev[R[i][0]])[0]])\n",
    "        print(dev_data[R[i][0]][0:500], '\\n')\n",
    "    \n",
    "    \n",
    "    \n",
    "\n",
    "## STUDENT END ###\n",
    "\n",
    "P7()"
   ]
  },
  {
   "cell_type": "markdown",
   "metadata": {},
   "source": [
    "ANSWER: TfidVectorizer is different from CountVectorizer in that it weights words not just on how frequently they occur in classes. Words that appear in documents very commonly such as \"the\" will have very little weight since all emails tend to have this weight. \n",
    "\n",
    "The issue with these classifications is that the weight is having issues with recognizing which word is more important: mormon or ftp. It's clearly using the ftp label to assign these to comp.graphics despite the email being very obvious to a human that it is about Book of Mormon. That said both of these words are relatively rare in the corpus so they are both heavily adjusted. I think ngrams may actually help in this case, where we look at more words. Then ftp wouldn't be weighted alone and things like \"Book of Mormon\" may actually help."
   ]
  },
  {
   "cell_type": "markdown",
   "metadata": {},
   "source": [
    "(8) EXTRA CREDIT\n",
    "\n",
    "Try implementing one of your ideas based on your error analysis. Use logistic regression as your underlying model."
   ]
  },
  {
   "cell_type": "code",
   "execution_count": null,
   "metadata": {
    "collapsed": true
   },
   "outputs": [],
   "source": []
  }
 ],
 "metadata": {
  "kernelspec": {
   "display_name": "Python 3",
   "language": "python",
   "name": "python3"
  },
  "language_info": {
   "codemirror_mode": {
    "name": "ipython",
    "version": 3
   },
   "file_extension": ".py",
   "mimetype": "text/x-python",
   "name": "python",
   "nbconvert_exporter": "python",
   "pygments_lexer": "ipython3",
   "version": "3.6.1"
  }
 },
 "nbformat": 4,
 "nbformat_minor": 1
}
