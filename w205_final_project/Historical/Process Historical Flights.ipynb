{
 "cells": [
  {
   "cell_type": "markdown",
   "metadata": {},
   "source": [
    "This notebook loops through all the historical files and appends the airport to each row. The historical flights are mapped to separate csvs based on airline . Weather stations are also mapped to each row for easy lookup to the weather stations tables."
   ]
  },
  {
   "cell_type": "code",
   "execution_count": 2,
   "metadata": {
    "collapsed": true
   },
   "outputs": [],
   "source": [
    "import pandas as pd\n",
    "import os\n",
    "import datetime\n",
    "import numpy as np"
   ]
  },
  {
   "cell_type": "code",
   "execution_count": 3,
   "metadata": {},
   "outputs": [
    {
     "name": "stdout",
     "output_type": "stream",
     "text": [
      "[]\n"
     ]
    }
   ],
   "source": [
    "errors = list()\n",
    "airport_station = pd.read_csv(\"Airport_to_Weather_Stations.txt\")\n",
    "keys = airport_station[\"LocationID\"].tolist()\n",
    "values = airport_station['Nearest_Station'].tolist()\n",
    "airport_to_station = {**dict(zip(keys, values)), **{'BKG': 'USC00230887', 'CLD': 'USW00003177', 'HDN': 'USC00053867', 'HHH': 'US1SCBF0052', \n",
    "                'MQT': 'US1MIMQ0016', 'AZA': 'USW00023104', 'ROP': 'CQC00914801', 'SPN': 'CQC00914855', \n",
    "                'UST': 'US1FLSJ0023', 'SCE': 'US1PACN0002', 'UTM': 'USC00229155', 'YAP': 'FMC00914429', 'YUM': 'USW00023195'}}\n",
    "\n",
    "def parse_row(line, departure_airport, airline):\n",
    "    row = line.replace('\\\"', '').replace(\"\\n\", \"\").split(\",\")\n",
    "    #Field names\n",
    "    #0 Carrier Code\n",
    "    #1 Date (MM/DD/YYYY)\n",
    "    #2 Flight Number\n",
    "    #3 Tail Number\n",
    "    #4 Destination Airport\n",
    "    #5 Scheduled departure time\n",
    "    #6 Actual departure time,\n",
    "    #7 Scheduled elapsed time (Minutes)\n",
    "    #8 Actual elapsed time (Minutes)\n",
    "    #9 Departure delay (Minutes)\n",
    "\n",
    "    date = row[1].split(\"/\")\n",
    "    year = date[2]\n",
    "    if row[0] == airline and len(row[3]) > 1 and row[3] != \"UNKNOW\" and int(row[8]) > 0 and int(row[7]) > 0 and int(year) > 2004:\n",
    "        #accept only if len(tailnumber) > 0 and tailnumber != \"UNKNOW\"\n",
    "        #accept only if Actual time > 0\n",
    "        #accept only if scheduled elapsed time > 0\n",
    "        #carrier code, year, month, day, Flight#, Tail#, Source, Destination, departure_hour, depature_Minute, delay, station\n",
    "        cc = row[0]\n",
    "        #year\n",
    "        month = date[0]\n",
    "        day = date[1]\n",
    "        flight = row[2]\n",
    "        tail = row[3]\n",
    "        source = departure_airport\n",
    "        destination = row[4]\n",
    "        departure = row[5].split(\":\")\n",
    "        departure_hour = departure[0]\n",
    "        departure_minute = departure[1]\n",
    "        delay = row[9]\n",
    "        try:\n",
    "            station = airport_to_station[departure_airport]\n",
    "        except:\n",
    "            if departure_airport == \"FCA\":\n",
    "                station = airport_to_station[\"GPI\"]\n",
    "            else:\n",
    "                errors.append([cc, year, month, day, flight, tail, source, destination, departure_hour, departure_minute, delay])\n",
    "                return None\n",
    "        #map weather station to row.\n",
    "        \n",
    "        return [cc, year, month, day, flight, tail, source, destination, departure_hour, departure_minute, delay, station]\n",
    "    \n",
    "def parse_file(filename):\n",
    "    airline = filename[0:2]\n",
    "    departure_airport = filename[3:6]\n",
    "    directory = 'csv\\\\' + filename\n",
    "    f = open(directory, 'r')\n",
    "    outputname = 'Processed_Flight_Data\\\\' + airline + '.txt'\n",
    "    if os.path.exists(outputname):\n",
    "        append_write = 'a' # append if already exists\n",
    "    else:\n",
    "        append_write = 'w' # make a new file if not\n",
    "    o = open(outputname,append_write)\n",
    "    for line in f.readlines():\n",
    "        if line[0] == '\\\"':\n",
    "            output = parse_row(line, departure_airport, airline)\n",
    "            if output != None:\n",
    "                o.write(\",\".join(output) + '\\n')\n",
    "    f.close()\n",
    "    o.close()\n",
    "    pass\n",
    "\n",
    "def main():\n",
    "    for fn in os.listdir('csv\\\\'):\n",
    "        filename = os.fsdecode(fn)\n",
    "        if filename.endswith('.txt'):\n",
    "            parse_file(filename)\n",
    "\n",
    "#main()      #Don't want to accidentally run this code again...\n",
    "print(errors)"
   ]
  },
  {
   "cell_type": "markdown",
   "metadata": {},
   "source": [
    "In this section we will find the departure of the previous flight with the same tail number and get it's departure delay."
   ]
  },
  {
   "cell_type": "code",
   "execution_count": 34,
   "metadata": {
    "collapsed": true,
    "scrolled": true
   },
   "outputs": [],
   "source": [
    "columns = [\"Airline\", \"Year\", \"Month\", \"Day\", \"Flight\", \"Tail\", \"Source\", \"Destination\", \"Departure_hour\"\n",
    "           , \"Departure_minute\", \"Delay\", \"Station\"]\n",
    "def map_prev_flight(Airline):\n",
    "    data = pd.read_csv(\"Processed_Flight_Data/\" + Airline + \".txt\", names = columns, header = None)\n",
    "    data['Date'] = data.apply(lambda x: datetime.datetime(year=x.Year, month=x.Month, day=x.Day, hour = x.Departure_hour,\n",
    "                                                          minute = x.Departure_minute), axis = 1)\n",
    "\n",
    "    data = data.sort_values(['Tail', 'Date', 'Departure_hour'], ascending=[True, False, False])\n",
    "    data['nTail'] = data['Tail'].shift(-1)\n",
    "    data['nDate'] = data['Date'].shift(-1)\n",
    "    data['nDelay'] = data['Delay'].shift(-1)\n",
    "\n",
    "    data['Previous_Delay'] = np.where((data['nTail'] == data['Tail']) & \n",
    "                                      (data['Date'] - datetime.timedelta(hours = 12) < data['nDate']), data['nDelay'], 0)\n",
    "\n",
    "    data.to_csv(\"Processed_Flight_Data/Mapped_with_Prev_Flight/\" + Airline + \".csv\", columns = columns + ['Previous_Delay'], \n",
    "                index = False, header = False)\n",
    "    \n",
    "for fn in os.listdir('Processed_Flight_Data\\\\'):\n",
    "    filename = os.fsdecode(fn)\n",
    "    if filename.endswith('.txt'):\n",
    "        if filename[0:2] not in ['9E', 'AA', 'AQ', 'AS', 'B6', 'CO', 'DH', 'DL', 'EV', 'F9', 'FL', 'HA', 'HP']:\n",
    "            map_prev_flight(filename[0:2])"
   ]
  },
  {
   "cell_type": "markdown",
   "metadata": {},
   "source": [
    "Now we merge the flight data with the weather data from the Process Weather Data Notebook."
   ]
  },
  {
   "cell_type": "code",
   "execution_count": 4,
   "metadata": {},
   "outputs": [],
   "source": [
    "header = [\"Airline\", \"Year\", \"Month\", \"Day\", \"Flight\", \"Tail\", \"Source\", \"Destination\", \"Departure_hour\"\n",
    "           , \"Departure_minute\", \"Delay\", \"Station\", \"Previous_Delay\"]\n",
    "weather_data = pd.read_csv(\"Processed_Historical_Weather_Data.csv\")\n",
    "for fn in os.listdir('Processed_Flight_Data\\\\Mapped_with_Prev_Flight\\\\'):\n",
    "    filename = os.fsdecode(fn)\n",
    "    if filename.endswith('.csv'):\n",
    "        flight_data = pd.read_csv(\"Processed_Flight_Data/Mapped_with_Prev_Flight/\" + filename, header = None, names= header)\n",
    "        flight_data['Date'] = flight_data.apply(lambda x: int(str(x.Year)+str(x.Month).zfill(2)+str(x.Day).zfill(2)), axis = 1)\n",
    "        data = flight_data.merge(weather_data, left_on = ['Station', 'Date'], right_on = ['ID', 'Date'])\n",
    "        data = data[data['TMAX'].notnull()]\n",
    "        data = data[data['TMIN'].notnull()]\n",
    "        data['SNOW'] = data['SNOW'].fillna(0)\n",
    "        data['PRCP'] = data[\"PRCP\"].fillna(0)\n",
    "        data.to_csv(\"Processed_Flight_Data/Mapped_with_Prev_Flight/Final_Flight_Data/\"\n",
    "                    + filename,\n",
    "                    columns = [\"Airline\", \"Year\", \"Month\", \"Day\"\n",
    "                    ,\"Tail\", \"Source\", \"Destination\",  \"Departure_hour\", \"Departure_minute\"\n",
    "                    , \"Delay\", \"Station\", \"Previous_Delay\", 'PRCP', 'SNOW', 'TMAX', 'TMIN']\n",
    "                    ,index = False, header = False)"
   ]
  },
  {
   "cell_type": "code",
   "execution_count": 5,
   "metadata": {
    "collapsed": true
   },
   "outputs": [],
   "source": [
    "#Combine all  final flight data csvs to one file.\n",
    "#Combine all csvs into 1 file\n",
    "a = open(\"Final_historical_data.csv\", 'a')\n",
    "for fn in os.listdir('Processed_Flight_Data\\\\Mapped_with_Prev_Flight\\\\Final_Flight_Data\\\\'):\n",
    "    filename = os.fsdecode(fn)\n",
    "    if filename.endswith('.csv'):\n",
    "        k = open('Processed_Flight_Data\\\\Mapped_with_Prev_Flight\\\\Final_Flight_Data\\\\' + filename, 'r')\n",
    "        for line in k.readlines():\n",
    "            a.write(line)\n",
    "        k.close()\n",
    "a.close()\n"
   ]
  },
  {
   "cell_type": "code",
   "execution_count": 7,
   "metadata": {
    "collapsed": true
   },
   "outputs": [],
   "source": [
    "#Get List of TailNumbers\n",
    "\n",
    "names = [\"Airline\", \"Year\", \"Month\", \"Day\", \"Flight\", \"Tail\", \"Source\", \"Destination\", \"Departure_hour\"\n",
    "           , \"Departure_minute\", \"Delay\", \"Station\"]\n",
    "\n",
    "TailNumbers = set()\n",
    "for fn in os.listdir('Processed_Flight_Data\\\\'):\n",
    "    filename = os.fsdecode(fn)\n",
    "    if filename.endswith('.txt'):\n",
    "        data = pd.read_csv('Processed_Flight_Data/' + filename, header = None, names = names)\n",
    "        TailNumbers.update(data['Tail'].unique())\n",
    "            \n",
    "f = open(\"Final_Tail_Number_List.txt\", 'a')\n",
    "for x in TailNumbers:\n",
    "    f.write(x + '\\n')\n",
    "f.close()       "
   ]
  },
  {
   "cell_type": "code",
   "execution_count": 15,
   "metadata": {
    "collapsed": true
   },
   "outputs": [],
   "source": []
  }
 ],
 "metadata": {
  "kernelspec": {
   "display_name": "Python 3",
   "language": "python",
   "name": "python3"
  },
  "language_info": {
   "codemirror_mode": {
    "name": "ipython",
    "version": 3
   },
   "file_extension": ".py",
   "mimetype": "text/x-python",
   "name": "python",
   "nbconvert_exporter": "python",
   "pygments_lexer": "ipython3",
   "version": "3.6.1"
  }
 },
 "nbformat": 4,
 "nbformat_minor": 2
}
