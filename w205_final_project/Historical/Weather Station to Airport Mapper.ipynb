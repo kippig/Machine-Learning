{
 "cells": [
  {
   "cell_type": "raw",
   "metadata": {},
   "source": [
    "This file Connects our list of airports to weather stations so that we know which files to query."
   ]
  },
  {
   "cell_type": "code",
   "execution_count": 4,
   "metadata": {
    "collapsed": true
   },
   "outputs": [],
   "source": [
    "import numpy as np\n",
    "import pandas as pd\n",
    "import os"
   ]
  },
  {
   "cell_type": "code",
   "execution_count": 3,
   "metadata": {
    "collapsed": true
   },
   "outputs": [],
   "source": [
    "from math import radians, cos, sin, asin, sqrt\n",
    "def haversine(p1, p2):\n",
    "    \"\"\"\n",
    "    Calculate the great circle distance between two points \n",
    "    on the earth (specified in decimal degrees)\n",
    "    \"\"\"\n",
    "    lon1, lat1 = p1[0], p1[1]\n",
    "    lon2, lat2 = p2[0], p2[1]\n",
    "    # convert decimal degrees to radians \n",
    "    lon1, lat1, lon2, lat2 = map(radians, [lon1, lat1, lon2, lat2])\n",
    "    # haversine formula \n",
    "    dlon = lon2 - lon1 \n",
    "    dlat = lat2 - lat1 \n",
    "    a = sin(dlat/2)**2 + cos(lat1) * cos(lat2) * sin(dlon/2)**2\n",
    "    c = 2 * asin(sqrt(a)) \n",
    "    # Radius of earth in kilometers is 6371\n",
    "    km = 6371* c\n",
    "    return km\n",
    "\n",
    "def row_haversine(p1, p2):\n",
    "    return [haversine(p1, p) for p in p2]"
   ]
  },
  {
   "cell_type": "code",
   "execution_count": 5,
   "metadata": {},
   "outputs": [
    {
     "name": "stdout",
     "output_type": "stream",
     "text": [
      "            ID  LATITUDE  LONGITUDE STATE                   NAME HCN/CRN FLAG  \\\n",
      "0  ACW00011604   17.1167   -61.7833        ST JOHNS COOLIDGE FLD                \n",
      "1  ACW00011647   17.1333   -61.7833                     ST JOHNS                \n",
      "2  AE000041196   25.3330    55.5170          SHARJAH INTER. AIRP                \n",
      "3  AEM00041194   25.2550    55.3640                   DUBAI INTL                \n",
      "4  AEM00041217   24.4330    54.6510               ABU DHABI INTL                \n",
      "5  AEM00041218   24.2620    55.6090                  AL AIN INTL                \n",
      "6  AF000040930   35.3170    69.0170                 NORTH-SALANG                \n",
      "7  AFM00040938   34.2100    62.2280                        HERAT                \n",
      "8  AFM00040948   34.5660    69.2120                   KABUL INTL                \n",
      "9  AFM00040990   31.5000    65.8500             KANDAHAR AIRPORT                \n",
      "\n",
      "           Coordinates  \n",
      "0  (17.1167, -61.7833)  \n",
      "1  (17.1333, -61.7833)  \n",
      "2     (25.333, 55.517)  \n",
      "3     (25.255, 55.364)  \n",
      "4     (24.433, 54.651)  \n",
      "5     (24.262, 55.609)  \n",
      "6     (35.317, 69.017)  \n",
      "7      (34.21, 62.228)  \n",
      "8     (34.566, 69.212)  \n",
      "9        (31.5, 65.85)  \n"
     ]
    }
   ],
   "source": [
    "#Preprocess the station data from the raw file\n",
    "header = ['ID', 'LATITUDE', 'LONGITUDE','STATE', 'NAME','HCN/CRN FLAG']\n",
    "f = open(\"Historical Weather data/ghcnd-stations.txt\", 'r')\n",
    "s = []\n",
    "for line in f.readlines():\n",
    "    s.append([str(line[0:11]).strip(), float(line[12:20].strip()), float(line[21:30].strip()),\n",
    "                     str(line[38:40]).strip(), str(line[41:71]).strip(), str(line[76:79]).strip()])\n",
    "stations = pd.DataFrame(s, columns = header)\n",
    "stations['Coordinates'] = stations.apply(lambda row: (row.LATITUDE, row.LONGITUDE), axis = 1)\n",
    "print(stations[0:10])"
   ]
  },
  {
   "cell_type": "code",
   "execution_count": null,
   "metadata": {
    "collapsed": true
   },
   "outputs": [],
   "source": []
  },
  {
   "cell_type": "code",
   "execution_count": 8,
   "metadata": {
    "collapsed": true
   },
   "outputs": [],
   "source": [
    "Airports = ['ABR', 'ABI', 'ADK', 'BQN', 'CAK', 'ABY', 'ALB', 'ABQ', 'AEX', 'ABE', 'APN', 'AMA', 'ANC', 'ANI', 'ATW', 'ACV', \n",
    "            'AVL', 'HTS', 'ASE', 'ATL', 'ACY', 'AGS', 'AUS', 'AUS', 'BFL', 'BWI', 'BGR', 'BRW', 'BTR', 'BPT', 'BLI', 'BJI', \n",
    "            'RDM', 'BET', 'BIL', 'BGM', 'BHM', 'BIS', 'BMI', 'BOI', 'BOS', 'BZN', 'BRD', 'BKG', 'TRI', 'BRO', 'BQK', 'BUF', \n",
    "            'IFP', 'BUR', 'BTV', 'BTM', 'CLD', 'CPR', 'CDC', 'CID', 'CMI', 'CHS', 'CRW', 'STT', 'CLT', 'CHO', 'CHA', 'CYS', \n",
    "            'MDW', 'ORD', 'CIC', 'STX', 'CVG', 'CKB', 'CLE', 'COD', 'CLL', 'COS', 'COU', 'CAE', 'CSG', 'CBM', 'GTR', 'CMH', \n",
    "            'CCR', 'CDV', 'CRP', 'CEC', 'DAL', 'DFW', 'DAY', 'DAB', 'SCC', 'DRT', 'DEN', 'DSM', 'DET', 'DTW', 'DVL', 'DIK', \n",
    "            'DLG', 'DHN', 'DBQ', 'DLH', 'DRO', 'EGE', 'EAU', 'IPL', 'ELP', 'EKO', 'ELM', 'ERI', 'ESC', 'EUG', 'EVV', 'FAI', \n",
    "            'FAR', 'FMN', 'XNA', 'FAY', 'FLG', 'FNT', 'FLO', 'FLL', 'RSW', 'FSM', 'FWA', 'FAT', 'GNV', 'GCK', 'GCC', 'GCN', \n",
    "            'GFK', 'GRI', 'GJT', 'GRR', 'GTF', 'GRB', 'GSO', 'GLH', 'GSP', 'GUM', 'GPT', 'GUC', 'GST', 'CMX', 'HRL', 'MDT', \n",
    "            'BDL', 'PIB', 'HDN', 'HYS', 'HLN', 'HIB', 'HKY', 'ITO', 'HHH', 'HOB', 'HNL', 'MKK', 'EFD', 'IAH', 'HOU', 'HSV', \n",
    "            'HYA', 'IDA', 'IND', 'INL', 'IYK', 'IMT', 'ISP', 'ITH', 'JAC', 'JAN', 'JAX', 'OAJ', 'JMS', 'JLN', 'JNU', 'OGG', \n",
    "            'AZO', 'FCA', 'MKC', 'MCI', 'KTN', 'EYW', 'GRK', 'ILE', 'AKN', 'ISO', 'LMT', 'TYS', 'ADQ', 'KOA', 'ROR', 'OTZ', \n",
    "            'LSE', 'LFT', 'LCH', 'TVL', 'LNY', 'LAN', 'LAR', 'LRD', 'LAS', 'LBE', 'LAW', 'LWB', 'LWS', 'LEX', 'LIH', 'LNK', \n",
    "            'LIT', 'LGB', 'GGG', 'LAX', 'SDF', 'LBB', 'LYH', 'MCN', 'MSN', 'MMH', 'MHT', 'MHK', 'MTH', 'MQT', 'MVY', 'MAZ', \n",
    "            'MFR', 'MLB', 'MEM', 'MEI', 'MIA', 'MAF', 'MKE', 'MSP', 'MIB', 'MOT', 'MFE', 'MSO', 'CNY', 'MOB', 'MOD', 'MLI', \n",
    "            'MLU', 'MRY', 'MGM', 'MTJ', 'MWH', 'CWA', 'MKG', 'MYR', 'ACK', 'APF', 'BNA', 'EWN', 'HVN', 'MSY', 'JFK', 'LGA', \n",
    "            'EWR', 'SWF', 'PHF', 'IAG', 'OME', 'ORF', 'OTH', 'LBF', 'OAK', 'OGD', 'OKC', 'OMA', 'ONT', 'MCO', 'OXR', 'PAH', \n",
    "            'PPG', 'PSP', 'PMD', 'PFN', 'ECP', 'PSC', 'PLN', 'PNS', 'PIA', 'PSG', 'PHL', 'AZA', 'PHX', 'PIR', 'SOP', 'PIT', \n",
    "            'PBG', 'PIH', 'PSE', 'PWM', 'PDX', 'PVD', 'PVU', 'PUB', 'PGD', 'RDU', 'RCA', 'RAP', 'RDR', 'RDD', 'RNO', 'RHI', \n",
    "            'RIC', 'ROA', 'RST', 'ROC', 'RKS', 'RFD', 'ROW', 'ROP', 'SMF', 'MBS', 'SPN', 'SLE', 'SLC', 'SJT', 'SAT', 'SAN', \n",
    "            'SFO', 'SJC', 'SJU', 'SBP', 'SNA', 'SBA', 'SAF', 'SMX', 'STS', 'SRQ', 'CIU', 'SAV', 'BFF', 'AVP', 'BFI', 'SEA', \n",
    "            'SHV', 'SUX', 'FSD', 'SIT', 'SBN', 'SKA', 'GEG', 'SPI', 'SGF', 'UST', 'STC', 'SGU', 'STL', 'KSM', 'PIE', 'SCE', \n",
    "            'SHD', 'SCK', 'SUN', 'SYR', 'TLH', 'TPA', 'TEX', 'TXK', 'TKI', 'TOL', 'FOE', 'TVC', 'TTN', 'TUS', 'TUL', 'UTM', \n",
    "            'TUP', 'TWF', 'TYR', 'DUT', 'UCA', 'VLD', 'VPS', 'VEL', 'VCT', 'VIS', 'ACT', 'DCA', 'IAD', 'ALO', 'ART', 'ENV', \n",
    "            'PBI', 'WYS', 'HPN', 'SPS', 'ICT', 'ISN', 'ILG', 'ILM', 'ORH', 'WRG', 'YKM', 'YAK', 'YAP', 'YUM', 'GPI']\n",
    "    "
   ]
  },
  {
   "cell_type": "code",
   "execution_count": 9,
   "metadata": {
    "collapsed": true
   },
   "outputs": [],
   "source": [
    "def closest_station(Coord):\n",
    "\n",
    "    minindex = stations['Coordinates'].map(lambda x: haversine(Coord, x)).idxmin(axis = 1)\n",
    "    stationID = stations['ID'].loc[minindex]\n",
    "\n",
    "    return stationID\n"
   ]
  },
  {
   "cell_type": "code",
   "execution_count": 10,
   "metadata": {
    "collapsed": true
   },
   "outputs": [],
   "source": [
    "zipcodes = pd.read_csv(\"AIrport Zip Codes (for weatherscraping).csv\")\n",
    "zipcodes['LocationID'] = [x[1:] for x in zipcodes['LocationID']]\n",
    "zipcodes = zipcodes.loc[zipcodes['LocationID'].isin(Airports)]\n",
    "zipcodes['ARPLatitudeS'] = zipcodes['ARPLatitudeS'].map(lambda x: -1*float(x[:-1])/3600 if x[-1] == \"S\" else float(x[:-1])/3600)\n",
    "zipcodes['ARPLongitudeS'] = zipcodes['ARPLongitudeS'].map(lambda x: -1*float(x[:-1])/3600 if x[-1] == \"W\" else float(x[:-1])/3600)\n",
    "zipcodes['Nearest_Station'] = zipcodes.apply(lambda row: closest_station((row.ARPLatitudeS, row.ARPLongitudeS)), axis = 1)\n"
   ]
  },
  {
   "cell_type": "code",
   "execution_count": 14,
   "metadata": {},
   "outputs": [
    {
     "name": "stdout",
     "output_type": "stream",
     "text": [
      "Empty DataFrame\n",
      "Columns: [LocationID, OwnerCSZ, ManagerCSZ, ZIp1, ZIp2, ARPLatitude, ARPLatitudeS, ARPLongitude, ARPLongitudeS, Nearest_Station]\n",
      "Index: []\n"
     ]
    }
   ],
   "source": [
    "print(zipcodes[zipcodes['LocationID'] == 'YAP'])"
   ]
  },
  {
   "cell_type": "code",
   "execution_count": 11,
   "metadata": {
    "collapsed": true
   },
   "outputs": [],
   "source": [
    "zipcodes[['LocationID', 'Nearest_Station']].to_csv(\"Airport_to_Weather_Stations.txt\", sep = \",\", index = False)"
   ]
  },
  {
   "cell_type": "code",
   "execution_count": 16,
   "metadata": {},
   "outputs": [
    {
     "name": "stdout",
     "output_type": "stream",
     "text": [
      "{'BKG': 'USC00230887', 'CLD': 'USW00003177', 'HDN': 'USC00053867', 'HHH': 'US1SCBF0052', 'FCA': 'USC00244560', 'GPI': 'USC00244560', 'MQT': 'US1MIMQ0016', 'AZA': 'USW00023104', 'ROP': 'CQC00914801', 'SPN': 'CQC00914855', 'UST': 'US1FLSJ0023', 'SCE': 'US1PACN0002', 'UTM': 'USC00229155', 'YAP': 'FMC00914429', 'YUM': 'USW00023195'}\n"
     ]
    }
   ],
   "source": [
    "# Missed airports\n",
    "\n",
    "missing_airports = [[\"BKG\",36.5385, -93.1991],[\"CLD\",33.1279, -117.2792],[\"HDN\",40.4814, -107.2166]\n",
    "    ,[\"HHH\",32.2251, -80.6974]\n",
    "    ,[\"FCA\",48.3099, -114.2546]\n",
    "    ,[\"GPI\",48.3099, -114.2546]\n",
    "    ,[\"MQT\",46.3497, -87.3873]\n",
    "    ,[\"AZA\",33.3074, -111.6689]\n",
    "    ,[\"ROP\",14.1720, 145.2438]\n",
    "    ,[\"SPN\",15.1197, 145.7283]\n",
    "    ,[\"UST\",29.9547, -81.3433]\n",
    "    ,[\"SCE\",40.8500, -77.8487]\n",
    "    ,[\"UTM\",34.685000, -90.347778]\n",
    "    ,[\"YAP\",9.498889, 138.082500]\n",
    "    ,[\"YUM\",32.6686, -114.5990]]\n",
    "\n",
    "airports_dict = {}\n",
    "for row in missing_airports:\n",
    "    airports_dict[row[0]] = closest_station((row[1],row[2]))\n",
    "\n",
    "print(airports_dict)"
   ]
  }
 ],
 "metadata": {
  "kernelspec": {
   "display_name": "Python 3",
   "language": "python",
   "name": "python3"
  },
  "language_info": {
   "codemirror_mode": {
    "name": "ipython",
    "version": 3
   },
   "file_extension": ".py",
   "mimetype": "text/x-python",
   "name": "python",
   "nbconvert_exporter": "python",
   "pygments_lexer": "ipython3",
   "version": "3.6.1"
  }
 },
 "nbformat": 4,
 "nbformat_minor": 2
}
